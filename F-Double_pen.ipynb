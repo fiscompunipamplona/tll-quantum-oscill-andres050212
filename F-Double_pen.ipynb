{
 "cells": [
  {
   "cell_type": "markdown",
   "metadata": {},
   "source": [
    "# **Péndulo Doble**"
   ]
  },
  {
   "cell_type": "markdown",
   "metadata": {},
   "source": [
    "Si realizó el ejercicio 8.4, habrá creado un programa para calcular el movimiento de un péndulo no lineal. Aunque no es lineal, el movimiento del péndulo no lineal es, sin embargo, perfectamente regular y periódico; no hay sorpresas. Un péndulo doble, por otro lado, es completamente lo opuesto: caótico e impredecible. Un *péndulo doble* consiste en un péndulo normal con otro péndulo colgando de su extremo. Para simplificar, ignoremos la fricción y supongamos que ambos péndulos tienen bobinas de la misma masa $m$ y brazos sin masa de la misma longitud $l$. Por lo tanto, la configuración se ve así:\n",
    "\n",
    "<img src=\"Pendulo.png\">\n",
    "\n",
    "La posición de los brazos en cualquier momento en el tiempo se especifica de manera única por los dos ángulos $ \\theta_1 $ y $ \\theta_2 $. Las ecuaciones de movimiento para los ángulos se derivan más fácilmente usando el formalismo Lagrangiano, como lo siguiente.\n",
    "\n",
    "Las alturas de las dos bobinas, medidas desde el nivel del pivote son\n",
    "\n",
    "\\begin{equation}\n",
    "h_1 = -\\ell\\cos\\theta_1, \\qquad\n",
    "h_2 = -\\ell(\\cos\\theta_1+\\cos\\theta_2),\n",
    "\\end{equation}\n",
    "\n",
    "entonces la energía potencial del sistema es\n",
    "\n",
    "\\begin{equation}\n",
    "V = mgh_1 + mgh_2 = -mg\\ell(2\\cos\\theta_1 + \\cos\\theta_2),\n",
    "\\end{equation}\n",
    "\n",
    "donde $g$ es la aceleración debida a la gravedad. Las velocidades (lineales) de las dos bobinas están dadas por\n",
    "\n",
    "\n",
    "\\begin{equation}\n",
    "v_1 = \\ell\\dot\\theta_1, \\qquad\n",
    "v_2^2 = \\ell^2 \\bigl[ \\dot\\theta_1^2 + \\dot\\theta_2^2\n",
    "  + 2 \\dot\\theta_1\\dot\\theta_2 \\cos(\\theta_1-\\theta_2) \\bigr],\n",
    "\\end{equation}\n",
    "\n",
    "donde $ \\dot \\theta $ significa la derivada de $\\theta$ con respecto al tiempo $ t $. (Si no ve de dónde viene la segunda ecuación de velocidad, es un buen ejercicio deducirla de la geometría del péndulo). Ahora la energía cinética total es\n",
    "\n",
    "\\begin{equation}\n",
    "T = \\frac{1}{2} m v_1^2 + \\frac{1}{2} m v_2^2\n",
    "  = m\\ell^2 \\bigl[ \\dot\\theta_1^2 + \\frac{1}{2} \\dot\\theta_2^2\n",
    "  + \\dot\\theta_1\\dot\\theta_2 \\cos(\\theta_1-\\theta_2) \\bigr],\n",
    "\\end{equation}\n",
    "\n",
    "y el Lagrangiano del sistema es\n",
    "\n",
    "\\begin{equation}\n",
    "\\mathcal{L} = T - V\n",
    "  = m\\ell^2 \\bigl[ \\dot\\theta_1^2 + \\frac{1}{2} \\dot\\theta_2^2\n",
    "  + \\dot\\theta_1\\dot\\theta_2 \\cos(\\theta_1-\\theta_2) \\bigr]\n",
    "  + mg\\ell(2\\cos\\theta_1 + \\cos\\theta_2).\n",
    "\\end{equation}\n",
    "\n",
    "Luego, las ecuaciones de movimiento están dadas por las ecuaciones de Euler - Lagrange\n",
    "\n",
    "\\begin{equation}\n",
    "\\frac{d}{dt} \\biggl({\\partial\\mathcal{L}\\over\\partial\\dot\\theta_1} \\biggr)\n",
    "  = {\\partial\\mathcal{L}\\over\\partial\\theta_1}, \\qquad\n",
    "\\frac{d}{dt} \\biggl({\\partial\\mathcal{L}\\over\\partial\\dot\\theta_2} \\biggr)\n",
    "  = {\\partial\\mathcal{L}\\over\\partial\\theta_2},\n",
    "\\end{equation}\n",
    "\n",
    "que en este caso dan\n",
    "\n",
    "\\begin{align*}\n",
    "2\\ddot\\theta_1 + \\ddot\\theta_2 \\cos(\\theta_1-\\theta_2)\n",
    "  &+ \\dot\\theta_2^2 \\sin(\\theta_1-\\theta_2) + 2{g\\over\\ell} \\sin\\theta_1 = 0,\n",
    "  \\\\\n",
    "\\ddot\\theta_2 + \\ddot\\theta_1 \\cos(\\theta_1-\\theta_2)\n",
    "  &- \\dot\\theta_1^2 \\sin(\\theta_1-\\theta_2) + {g\\over\\ell} \\sin\\theta_2 = 0,\n",
    "\\end{align*}\n",
    "\n",
    "donde la masa $ m $ se ha cancelado.\n",
    "\n",
    "Estas son ecuaciones de segundo orden, pero podemos convertirlas en las de primer orden por el método habitual, definiendo dos nuevas variables, $ \\ omega_1 $ y $ \\ omega_2 $, por lo tanto:\n",
    "\n",
    "\\begin{equation}\n",
    "\\dot\\theta_1 = \\omega_1,\\qquad \\dot\\theta_2 = \\omega_2.\n",
    "\\end{equation}\n",
    "\n",
    "En términos de estas variables, nuestras ecuaciones de movimiento se convierten\n",
    "\n",
    "\\begin{align*}\n",
    "2\\dot\\omega_1 + \\dot\\omega_2 \\cos(\\theta_1-\\theta_2)\n",
    "  &+ \\omega_2^2 \\sin(\\theta_1-\\theta_2) + 2{g\\over\\ell} \\sin\\theta_1 = 0,\n",
    "  \\\\\n",
    "\\dot\\omega_2 + \\dot\\omega_1 \\cos(\\theta_1-\\theta_2)\n",
    "  &- \\omega_1^2 \\sin(\\theta_1-\\theta_2) + {g\\over\\ell} \\sin\\theta_2 = 0.\n",
    "\\end{align*}\n",
    "\n",
    "Finalmente, tenemos que reorganizarlos en la forma estándar de la ecuación (8.29) con una sola derivada en el lado izquierdo de cada uno, lo que da\n",
    "\n",
    "\\begin{align*}\n",
    "\\dot\\omega_1 &= - {\\omega_1^2\\sin(2\\theta_1-2\\theta_2)\n",
    "                + 2\\omega_2^2\\sin(\\theta_1-\\theta_2)\n",
    "                + (g/\\ell) \\bigl[ \\sin(\\theta_1-2\\theta_2)\n",
    "                                  + 3 \\sin\\theta_1 \\bigr]\\over\n",
    "                 3 - \\cos(2\\theta_1-2\\theta_2)}, \\\\\n",
    "\\dot\\omega_2 &= {4\\omega_1^2\\sin(\\theta_1-\\theta_2)\n",
    "                + \\omega_2^2\\sin(2\\theta_1-2\\theta_2)\n",
    "                + 2(g/\\ell) \\bigl[ \\sin(2\\theta_1-\\theta_2)\n",
    "                                   - \\sin\\theta_2 \\bigr]\\over\n",
    "                3 - \\cos(2\\theta_1-2\\theta_2)}.\n",
    "\\end{align*}\n",
    "\n",
    "(Este último paso es bastante complicado e involucra algunas identidades trigonométricas. Si no está seguro de cómo va el cálculo, puede resultarle útil realizar la derivación por sí mismo).\n",
    "\n",
    "Estas dos ecuaciones, junto con las ecuaciones $ \\dot \\theta_1 = \\omega_1 $ y $ \\dot \\theta_2 = \\omega_2 $, nos dan cuatro ecuaciones de primer orden que entre ellas definen el movimiento del doble péndulo.\n",
    "\n",
    "\n",
    "**a)** Derive una expresión para la energía total $ E = T + V $ del sistema en términos de las variables $ \\theta_1 $, $ \\theta_2 $, $ \\omega_1 $ y  $ \\omega_2 $, más las constantes $ g $ , $ \\ell $ y  $ m $.\n",
    "  \n",
    "**b)** Escriba un programa utilizando el método Runge - Kutta de cuarto orden para resolver las ecuaciones de movimiento para el caso donde $ \\ell = 40 \\, $ cm, con las condiciones iniciales $ \\theta_1 = \\theta_2 = 90 ^ \\circ $ y $ \\omega_1 = \\omega_2 = 0 $. Use su programa para calcular la energía total del sistema suponiendo que la masa de las bobinas es $ 1 \\, $ kg cada una, y tome un gráfico de energía en función del tiempo de $ t = 0 $ a $ t = 100 $ segundos.  \n",
    "Debido a la conservación de energía, la energía total debe ser constante a lo largo del tiempo (en realidad debería ser cero para este conjunto particular de condiciones iniciales), pero encontrará que no es perfectamente constante debido a la naturaleza aproximada de la solución de la ecuación diferencial . Elija un valor adecuado del tamaño del paso  $ h $ para asegurarse de que la variación de energía sea inferior a  $ 10 ^ {- 5} $  Julios en el transcurso del cálculo.\n",
    "\n",
    "**c)** Haga una copia de su programa y modifique la copia para crear un segundo programa que no produzca un gráfico, sino que haga una anotación del movimiento del péndulo doble con el tiempo. Como mínimo, la animación debe mostrar los dos brazos y las dos oscilaciones.  \n"
   ]
  },
  {
   "cell_type": "markdown",
   "metadata": {},
   "source": [
    "## Solución a) \n",
    "\n",
    "La Energia total del sistema viene definida por el expresión\n",
    "\n",
    "\\begin{equation}\n",
    "E = T + V\n",
    "  = m\\ell^2 \\bigl[ \\dot\\theta_1^2 + \\frac{1}{2} \\dot\\theta_2^2\n",
    "  + \\dot\\theta_1\\dot\\theta_2 \\cos(\\theta_1-\\theta_2) \\bigr]\n",
    "  - mg\\ell(2\\cos\\theta_1 + \\cos\\theta_2).\n",
    "\\end{equation}"
   ]
  },
  {
   "cell_type": "markdown",
   "metadata": {},
   "source": [
    "## Solución b) Odeint"
   ]
  },
  {
   "cell_type": "code",
   "execution_count": 1,
   "metadata": {},
   "outputs": [
    {
     "data": {
      "text/html": [
       "<div id=\"glowscript\" class=\"glowscript\"></div>"
      ],
      "text/plain": [
       "<IPython.core.display.HTML object>"
      ]
     },
     "metadata": {},
     "output_type": "display_data"
    },
    {
     "data": {
      "application/javascript": [
       "if (typeof Jupyter !== \"undefined\") { window.__context = { glowscript_container: $(\"#glowscript\").removeAttr(\"id\")};}else{ element.textContent = ' ';}"
      ],
      "text/plain": [
       "<IPython.core.display.Javascript object>"
      ]
     },
     "metadata": {},
     "output_type": "display_data"
    }
   ],
   "source": [
    "from numpy import array, linspace\n",
    "from math import sin, cos, pi\n",
    "from pylab import plot, xlabel, ylabel, show\n",
    "from scipy.integrate import odeint\n",
    "from vpython import sphere, scene, vector, color, arrow, text, sleep, cylinder"
   ]
  },
  {
   "cell_type": "code",
   "execution_count": 6,
   "metadata": {},
   "outputs": [],
   "source": [
    "arrow_size = 0.3  #Tamaño de la flecha\n",
    "\n",
    "arrow_x = arrow(pos=vector(0,0,0), axis=vector(arrow_size,0,0), color=color.red)\n",
    "arrow_y = arrow(pos=vector(0,0,0), axis=vector(0,arrow_size,0), color=color.green)\n",
    "arrow_z = arrow(pos=vector(0,0,0), axis=vector(0,0,arrow_size))\n",
    "\n",
    "R = 0.03 #Radio de la esfera\n",
    "\n",
    "\n",
    "###### Función Principal ###### \n",
    "\n",
    "def func (r, t, g, l): \n",
    "    the1 = r[0]\n",
    "    ome1 = r[1]\n",
    "    the2 = r[2]\n",
    "    ome2 = r[3]\n",
    "    \n",
    "    f_ome1 = - (ome1 ** 2 * sin(2 * the1 - 2 * the2) + 2 * ome2 ** 2 * sin(the1 - the2) + \\\n",
    "                  g / l * (sin(the1 - 2 * the2) + 3 * sin(the1))) / (3 - cos(2 * the1 - 2 * the2))\n",
    "    f_ome2 = (4 * ome1 ** 2 * sin(the1 - the2) + ome2 ** 2 * sin(2 * the1 - 2 * the2) + \\\n",
    "                 2 * g / l * (sin(2 * the1 - the2) - sin(the2))) / (3 - cos(2 * the1 - 2 * the2))\n",
    "    \n",
    "    return array([ome1,f_ome1,ome2,f_ome2], float)\n",
    "\n",
    "#####################################################################\n",
    "\n",
    "###### Condiciones Iniciales ######\n",
    "\n",
    "g = 9.81  # m/s^2\n",
    "m = 1. # kg\n",
    "l = 0.2  # longitud del péndulo\n",
    "the1_1 = pi/2. \n",
    "the2_1 = pi/2.\n",
    "ome1_1 = 0.\n",
    "ome2_1 = 0.\n",
    "\n",
    "#####################################################################\n",
    "\n",
    "\n",
    "###### Tiempo Del Problema ######\n",
    "\n",
    "n_steps = 150000 #Número de pasos\n",
    "t_start = 0.   #Tiempo inicial\n",
    "t_final = 10.  #Tiempo final\n",
    "t_delta = (t_final - t_start) / n_steps #Diferencial de tiempo (Paso temporal)\n",
    "t = linspace(t_start, t_final, n_steps) #Arreglo de diferencial de tiempo\n",
    "\n",
    "#####################################################################\n",
    "\n",
    "\n",
    "###### Solución Del Problema Con Odeint ######\n",
    "\n",
    "r = array([the1_1, ome1_1, the2_1, ome2_1], float)\n",
    "\n",
    "solu, outodeint = odeint( func,r, t, args = (g, l), full_output=True) \n",
    "\n",
    "the_10, ome_10, the_20, ome_20 = solu.T \n",
    "\n",
    "\n",
    "###### Energía ######\n",
    "\n",
    "g = 9.81  # m/s^2\n",
    "m = 1. # kg\n",
    "l = 0.2  # longitud del péndulo\n",
    "\n",
    "ener = []\n",
    "\n",
    "for i in range(len(the_10)):\n",
    "    ener.append(-m * g * l * (2 * cos(the_10[i])+cos(the_20[i])+m*l**2*ome_10[i]**2+0.5*ome_20[i]*cos(the_10[i]-the_20[i])))\n",
    "\n",
    "\n",
    "\n",
    "#######################################################################"
   ]
  },
  {
   "cell_type": "code",
   "execution_count": 7,
   "metadata": {},
   "outputs": [
    {
     "data": {
      "image/png": "[encoded data removed]",
      "text/plain": [
       "<matplotlib.figure.Figure at 0x7f2588822da0>"
      ]
     },
     "metadata": {
      "needs_background": "light"
     },
     "output_type": "display_data"
    }
   ],
   "source": [
    "###### Gráfica ######\n",
    "\n",
    "plot(t,ener)\n",
    "xlabel('t (s)')\n",
    "ylabel('energia (J)')\n",
    "show()"
   ]
  },
  {
   "cell_type": "code",
   "execution_count": null,
   "metadata": {},
   "outputs": [],
   "source": []
  }
 ],
 "metadata": {
  "kernelspec": {
   "display_name": "Python 3",
   "language": "python",
   "name": "python3"
  },
  "language_info": {
   "codemirror_mode": {
    "name": "ipython",
    "version": 3
   },
   "file_extension": ".py",
   "mimetype": "text/x-python",
   "name": "python",
   "nbconvert_exporter": "python",
   "pygments_lexer": "ipython3",
   "version": "3.6.8"
  }
 },
 "nbformat": 4,
 "nbformat_minor": 2
}
